{
 "cells": [
  {
   "cell_type": "code",
   "execution_count": null,
   "metadata": {},
   "outputs": [],
   "source": [
    "from tensorflow.keras.utils import to_categorical\n",
    "from tqdm import tqdm\n",
    "import numpy as np\n",
    "import os\n",
    "from PIL import Image"
   ]
  },
  {
   "cell_type": "code",
   "execution_count": null,
   "metadata": {},
   "outputs": [],
   "source": [
    "import numpy as np\n",
    "from tensorflow.keras.preprocessing.image import ImageDataGenerator\n",
    "\n",
    "# USE DATA GENERATOR\n",
    "data_gen = ImageDataGenerator()\n",
    "\n",
    "def get_data_generator(path:str,batch_size=32,target_size=(256,256)):\n",
    "    data_generator = data_gen.flow_from_directory(\n",
    "        path,\n",
    "        target_size=target_size,\n",
    "        batch_size=batch_size,\n",
    "        class_mode='categorical')\n",
    "\n",
    "    return data_generator\n",
    "\n",
    "# DATA GENERATOR FOR VALIDATION\n",
    "def get_val_generator(path:str,batch_size=32,target_size=(256,256)):\n",
    "    data_generator = data_gen.flow_from_directory(\n",
    "        path,\n",
    "        target_size=target_size,\n",
    "        batch_size=batch_size,\n",
    "        class_mode='categorical')\n",
    "\n",
    "    return data_generator"
   ]
  },
  {
   "cell_type": "code",
   "execution_count": null,
   "metadata": {},
   "outputs": [],
   "source": [
    "from tensorflow.keras.applications import EfficientNetB0\n",
    "from tensorflow.keras import layers, models, optimizers\n",
    "\n",
    "def load_model():\n",
    "    \n",
    "    model = EfficientNetB0(weights='imagenet',include_top=False,input_shape=(256, 256,3))\n",
    "    model.trainable = False\n",
    "\n",
    "    flatten_layer = layers.Flatten()\n",
    "    dense_layer = layers.Dense(100, activation='relu')\n",
    "    dropout_layer = layers.Dropout(0.2)\n",
    "    \n",
    "    prediction_layer = layers.Dense(4, activation='softmax')\n",
    "\n",
    "\n",
    "    model = models.Sequential([\n",
    "        model,\n",
    "        flatten_layer,\n",
    "        dense_layer,\n",
    "        dropout_layer,\n",
    "        prediction_layer\n",
    "    ])\n",
    "\n",
    "    return model"
   ]
  },
  {
   "cell_type": "code",
   "execution_count": null,
   "metadata": {},
   "outputs": [],
   "source": [
    "from tensorflow.keras.optimizers import Adam\n",
    "from tensorflow.keras.callbacks import EarlyStopping, LearningRateScheduler\n",
    "model = load_model()\n",
    "model.compile(loss='categorical_crossentropy',optimizer = Adam(1e-5), metrics= ['accuracy'])\n",
    "data_generator = get_data_generator(\"/content/drive/MyDrive/tumor/Training\")\n",
    "val_generator = get_val_generator(\"/content/drive/MyDrive/tumor/Testing\")\n",
    "ES =EarlyStopping(patience=10, restore_best_weights=True)\n",
    "#lr_monitor = LearningRateScheduler(lambda epochs : 1e-5 * 10 ** (epochs/10))\n",
    "def exp_decay(epoch):\n",
    "   initial_lrate = 1e-5\n",
    "   k = 0.1\n",
    "   lrate = initial_lrate * np.exp(-k*10)\n",
    "   return lrate\n",
    "lrate = LearningRateScheduler(exp_decay)\n",
    "history = model.fit(data_generator,\n",
    "                        validation_data=val_generator,\n",
    "                        steps_per_epoch=20,\n",
    "                        validation_steps=2,\n",
    "                        epochs=100,\n",
    "                        verbose=1,\n",
    "                    callbacks=[ES, lrate])\n"
   ]
  },
  {
   "cell_type": "code",
   "execution_count": null,
   "metadata": {},
   "outputs": [],
   "source": [
    "import matplotlib.pyplot as plt\n",
    "def plot_history(history, title='', axs=None, exp_name=\"\"):\n",
    "    if axs is not None:\n",
    "        ax1, ax2 = axs\n",
    "    else:\n",
    "        f, (ax1, ax2) = plt.subplots(1, 2, figsize=(12, 4))\n",
    "    \n",
    "    if len(exp_name) > 0 and exp_name[0] != '_':\n",
    "        exp_name = '_' + exp_name\n",
    "    ax1.plot(history.history['loss'], label='train' + exp_name)\n",
    "    ax1.plot(history.history['val_loss'], label='val' + exp_name)\n",
    "    #ax1.set_ylim(0., 2.2)\n",
    "    ax1.set_title('loss')\n",
    "    ax1.legend()\n",
    "\n",
    "    ax2.plot(history.history['accuracy'], label='train accuracy'  + exp_name)\n",
    "    ax2.plot(history.history['val_accuracy'], label='val accuracy'  + exp_name)\n",
    "    #ax2.set_ylim(0.25, 1.)\n",
    "    ax2.set_title('Accuracy')\n",
    "    ax2.legend()\n",
    "    return (ax1, ax2)"
   ]
  },
  {
   "cell_type": "code",
   "execution_count": null,
   "metadata": {},
   "outputs": [],
   "source": [
    "plot_history(history)"
   ]
  }
 ],
 "metadata": {
  "kernelspec": {
   "display_name": "Python 3 (ipykernel)",
   "language": "python",
   "name": "python3"
  },
  "language_info": {
   "codemirror_mode": {
    "name": "ipython",
    "version": 3
   },
   "file_extension": ".py",
   "mimetype": "text/x-python",
   "name": "python",
   "nbconvert_exporter": "python",
   "pygments_lexer": "ipython3",
   "version": "3.10.6"
  },
  "toc": {
   "base_numbering": 1,
   "nav_menu": {},
   "number_sections": true,
   "sideBar": true,
   "skip_h1_title": false,
   "title_cell": "Table of Contents",
   "title_sidebar": "Contents",
   "toc_cell": false,
   "toc_position": {},
   "toc_section_display": true,
   "toc_window_display": false
  }
 },
 "nbformat": 4,
 "nbformat_minor": 2
}
