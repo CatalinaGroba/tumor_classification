{
 "cells": [
  {
   "cell_type": "code",
   "execution_count": 4,
   "metadata": {},
   "outputs": [],
   "source": [
    "from tensorflow.keras.utils import to_categorical\n",
    "from tqdm import tqdm\n",
    "import numpy as np\n",
    "import os\n",
    "from PIL import Image"
   ]
  },
  {
   "cell_type": "code",
   "execution_count": 8,
   "metadata": {},
   "outputs": [
    {
     "name": "stderr",
     "output_type": "stream",
     "text": [
      "  0%|          | 0/1652 [00:00<?, ?it/s]\n"
     ]
    },
    {
     "ename": "UnidentifiedImageError",
     "evalue": "cannot identify image file './raw_data/Training/glioma_tumor/gg (114).jpg:Zone.Identifier'",
     "output_type": "error",
     "traceback": [
      "\u001b[0;31m---------------------------------------------------------------------------\u001b[0m",
      "\u001b[0;31mUnidentifiedImageError\u001b[0m                    Traceback (most recent call last)",
      "Cell \u001b[0;32mIn[8], line 37\u001b[0m\n\u001b[1;32m     33\u001b[0m     y_test, y_val, y_train \u001b[39m=\u001b[39m y[:first_split], y[first_split:second_split], y[second_split:]\n\u001b[1;32m     35\u001b[0m     \u001b[39mreturn\u001b[39;00m X_train, y_train, X_val, y_val, X_test, y_test, num_classes\n\u001b[0;32m---> 37\u001b[0m X_train, y_train, X_val, y_val, X_test, y_test, num_classes \u001b[39m=\u001b[39m load_tumor_images()\n",
      "Cell \u001b[0;32mIn[8], line 16\u001b[0m, in \u001b[0;36mload_tumor_images\u001b[0;34m()\u001b[0m\n\u001b[1;32m     14\u001b[0m path \u001b[39m=\u001b[39m os\u001b[39m.\u001b[39mpath\u001b[39m.\u001b[39mjoin(path, name, img_name) \u001b[39m# Get the path for every specific image\u001b[39;00m\n\u001b[1;32m     15\u001b[0m \u001b[39mif\u001b[39;00m os\u001b[39m.\u001b[39mpath\u001b[39m.\u001b[39mexists(path): \u001b[39m# If correct path\u001b[39;00m\n\u001b[0;32m---> 16\u001b[0m     image \u001b[39m=\u001b[39m Image\u001b[39m.\u001b[39;49mopen(path)\n\u001b[1;32m     17\u001b[0m     image \u001b[39m=\u001b[39m image\u001b[39m.\u001b[39mresize((\u001b[39m256\u001b[39m, \u001b[39m256\u001b[39m))\n\u001b[1;32m     18\u001b[0m     images\u001b[39m.\u001b[39mappend(np\u001b[39m.\u001b[39marray(image)) \u001b[39m# Open, resize and append as array to images\u001b[39;00m\n",
      "File \u001b[0;32m~/.pyenv/versions/3.10.6/envs/tumor_classification/lib/python3.10/site-packages/PIL/Image.py:3283\u001b[0m, in \u001b[0;36mopen\u001b[0;34m(fp, mode, formats)\u001b[0m\n\u001b[1;32m   3281\u001b[0m     warnings\u001b[39m.\u001b[39mwarn(message)\n\u001b[1;32m   3282\u001b[0m msg \u001b[39m=\u001b[39m \u001b[39m\"\u001b[39m\u001b[39mcannot identify image file \u001b[39m\u001b[39m%r\u001b[39;00m\u001b[39m\"\u001b[39m \u001b[39m%\u001b[39m (filename \u001b[39mif\u001b[39;00m filename \u001b[39melse\u001b[39;00m fp)\n\u001b[0;32m-> 3283\u001b[0m \u001b[39mraise\u001b[39;00m UnidentifiedImageError(msg)\n",
      "\u001b[0;31mUnidentifiedImageError\u001b[0m: cannot identify image file './raw_data/Training/glioma_tumor/gg (114).jpg:Zone.Identifier'"
     ]
    }
   ],
   "source": [
    "def load_tumor_images():\n",
    "    path= \"./raw_data/Training\"\n",
    "    # Abs -> ~/code/CatalinaGroba/tumor_classification/...\n",
    "    # Relative -> ./\n",
    "    \n",
    "    classes = {'glioma_tumor':0,'meningioma_tumor':1,'pituitary_tumor':2,'no_tumor':3}\n",
    "    imgs = []\n",
    "    labels = []\n",
    "    images = []\n",
    "    for (name, index) in classes.items():\n",
    "        curr_images = [elt for elt in os.listdir(os.path.join(path, name))] # This gets all images' names from all different folders\n",
    "\n",
    "        for img_name in tqdm(curr_images): # Iterate over all names from curr_images\n",
    "            path = os.path.join(path, name, img_name) # Get the path for every specific image\n",
    "            if os.path.exists(path): # If correct path\n",
    "                image = Image.open(path)\n",
    "                image = image.resize((256, 256))\n",
    "                images.append(np.array(image)) # Open, resize and append as array to images\n",
    "                labels.append(index)\n",
    "            path= \"./raw_data/Training\"\n",
    "\n",
    "    X = np.array(images)\n",
    "    num_classes = len(set(labels))\n",
    "    y = to_categorical(labels, num_classes)\n",
    "\n",
    "    # Finally we shuffle:\n",
    "    p = np.random.permutation(len(X))\n",
    "    X, y = X[p], y[p]\n",
    "\n",
    "    first_split = int(len(images) /6.)\n",
    "    second_split = first_split + int(len(images) * 0.2)\n",
    "    X_test, X_val, X_train = X[:first_split], X[first_split:second_split], X[second_split:]\n",
    "    y_test, y_val, y_train = y[:first_split], y[first_split:second_split], y[second_split:]\n",
    "    \n",
    "    return X_train, y_train, X_val, y_val, X_test, y_test, num_classes\n",
    "\n",
    "X_train, y_train, X_val, y_val, X_test, y_test, num_classes = load_tumor_images()"
   ]
  }
 ],
 "metadata": {
  "kernelspec": {
   "display_name": "tumor_classification",
   "language": "python",
   "name": "python3"
  },
  "language_info": {
   "codemirror_mode": {
    "name": "ipython",
    "version": 3
   },
   "file_extension": ".py",
   "mimetype": "text/x-python",
   "name": "python",
   "nbconvert_exporter": "python",
   "pygments_lexer": "ipython3",
   "version": "3.10.6"
  },
  "orig_nbformat": 4
 },
 "nbformat": 4,
 "nbformat_minor": 2
}
