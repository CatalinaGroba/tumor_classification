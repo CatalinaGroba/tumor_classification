{
 "cells": [
  {
   "cell_type": "code",
   "execution_count": null,
   "metadata": {},
   "outputs": [],
   "source": [
    "from tensorflow.keras.utils import to_categorical\n",
    "from tqdm import tqdm\n",
    "import numpy as np\n",
    "import os\n",
    "from PIL import Image"
   ]
  },
  {
   "cell_type": "code",
   "execution_count": 32,
   "metadata": {},
   "outputs": [
    {
     "name": "stderr",
     "output_type": "stream",
     "text": [
      "100%|██████████| 826/826 [00:05<00:00, 151.11it/s]\n",
      "100%|██████████| 822/822 [00:05<00:00, 160.03it/s]\n",
      "100%|██████████| 827/827 [00:05<00:00, 159.44it/s]\n",
      "100%|██████████| 395/395 [00:01<00:00, 242.04it/s]\n"
     ]
    }
   ],
   "source": [
    "def load_tumor_images():\n",
    "    path= \"./raw_data/Training\"\n",
    "    # Abs -> ~/code/CatalinaGroba/tumor_classification/...\n",
    "    # Relative -> ./\n",
    "    \n",
    "    classes = {'glioma_tumor':0,'meningioma_tumor':1,'pituitary_tumor':2,'no_tumor':3}\n",
    "    imgs = []\n",
    "    labels = []\n",
    "    images = []\n",
    "    for (name, index) in classes.items():\n",
    "        curr_images = [elt for elt in os.listdir(os.path.join(path, name))] # This gets all images' names from all different folders\n",
    "\n",
    "        for img_name in tqdm(curr_images): # Iterate over all names from curr_images\n",
    "            path = os.path.join(path, name, img_name) # Get the path for every specific image\n",
    "            if os.path.exists(path): # If correct path\n",
    "                image = Image.open(path)\n",
    "                image = image.resize((256, 256))\n",
    "                images.append(np.array(image)) # Open, resize and append as array to images\n",
    "                labels.append(index)\n",
    "            path= \"./raw_data/Training\"\n",
    "\n",
    "    X = np.array(images)\n",
    "    num_classes = len(set(labels))\n",
    "    y = to_categorical(labels, num_classes)\n",
    "\n",
    "    # Finally we shuffle:\n",
    "    p = np.random.permutation(len(X))\n",
    "    X, y = X[p], y[p]\n",
    "\n",
    "    first_split = int(len(images) /6.)\n",
    "    second_split = first_split + int(len(images) * 0.2)\n",
    "    X_test, X_val, X_train = X[:first_split], X[first_split:second_split], X[second_split:]\n",
    "    y_test, y_val, y_train = y[:first_split], y[first_split:second_split], y[second_split:]\n",
    "    \n",
    "    return X_train, y_train, X_val, y_val, X_test, y_test, num_classes\n",
    "\n",
    "X_train, y_train, X_val, y_val, X_test, y_test, num_classes = load_tumor_images()"
   ]
  }
 ],
 "metadata": {
  "kernelspec": {
   "display_name": "tumor_classification",
   "language": "python",
   "name": "python3"
  },
  "language_info": {
   "codemirror_mode": {
    "name": "ipython",
    "version": 3
   },
   "file_extension": ".py",
   "mimetype": "text/x-python",
   "name": "python",
   "nbconvert_exporter": "python",
   "pygments_lexer": "ipython3",
   "version": "3.10.6"
  },
  "orig_nbformat": 4
 },
 "nbformat": 4,
 "nbformat_minor": 2
}
